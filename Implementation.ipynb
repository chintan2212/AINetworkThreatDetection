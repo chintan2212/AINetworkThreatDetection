{
  "cells": [
    {
      "cell_type": "markdown",
      "metadata": {
        "id": "e3Qjfqmlhwxo"
      },
      "source": [
        "#merging all the saperate dataset files and taking only data that is significant in classifying a network into Benign or Threat to form a dataset"
      ]
    },
    {
      "cell_type": "code",
      "execution_count": null,
      "metadata": {
        "colab": {
          "base_uri": "https://localhost:8080/"
        },
        "id": "qMozv11_4uyU",
        "outputId": "d3fb7fad-6903-4f04-aa70-0b72127df515"
      },
      "outputs": [
        {
          "data": {
            "text/plain": [
              "[]"
            ]
          },
          "execution_count": 1,
          "metadata": {},
          "output_type": "execute_result"
        }
      ],
      "source": [
        "import glob\n",
        "dirpath = \"C:/Work/IFT520/Project/archive/*csv\"\n",
        "csvpath = glob.glob(dirpath)\n",
        "csvpath"
      ]
    },
    {
      "cell_type": "code",
      "execution_count": null,
      "metadata": {
        "id": "LIX0mV2245mE"
      },
      "outputs": [],
      "source": [
        "import pandas as pd\n",
        "dataset = pd.DataFrame()\n",
        "for files in csvpath:\n",
        "    data = pd.read_csv(files)\n",
        "    data = data[['Dst Port', 'Protocol', 'Flow Duration', 'Tot Fwd Pkts', 'Tot Bwd Pkts', 'Label']]\n",
        "    dataset = pd.concat([dataset,data],axis=0)"
      ]
    },
    {
      "cell_type": "code",
      "execution_count": null,
      "metadata": {
        "id": "k9_bnZGE47W8"
      },
      "outputs": [],
      "source": [
        "dataset.to_csv('./Dataset/dataset_eight_columns.csv')"
      ]
    },
    {
      "cell_type": "code",
      "execution_count": null,
      "metadata": {
        "id": "0o9RdVB7BSsW"
      },
      "outputs": [],
      "source": [
        "import pandas as pd\n",
        "dataset = pd.read_csv('./Dataset/dataset_eight_columns.csv')"
      ]
    },
    {
      "cell_type": "code",
      "execution_count": null,
      "metadata": {
        "colab": {
          "base_uri": "https://localhost:8080/",
          "height": 424
        },
        "id": "3bdfkhN2BpX8",
        "outputId": "33abbf19-ffd9-413a-9293-1e6c42bd6b40"
      },
      "outputs": [
        {
          "data": {
            "text/html": [
              "\n",
              "  <div id=\"df-e91e4a01-0c2e-425c-8072-fcba4f51f5a5\" class=\"colab-df-container\">\n",
              "    <div>\n",
              "<style scoped>\n",
              "    .dataframe tbody tr th:only-of-type {\n",
              "        vertical-align: middle;\n",
              "    }\n",
              "\n",
              "    .dataframe tbody tr th {\n",
              "        vertical-align: top;\n",
              "    }\n",
              "\n",
              "    .dataframe thead th {\n",
              "        text-align: right;\n",
              "    }\n",
              "</style>\n",
              "<table border=\"1\" class=\"dataframe\">\n",
              "  <thead>\n",
              "    <tr style=\"text-align: right;\">\n",
              "      <th></th>\n",
              "      <th>0</th>\n",
              "      <th>0.1</th>\n",
              "      <th>112641719</th>\n",
              "      <th>3</th>\n",
              "      <th>0.2</th>\n",
              "      <th>Benign</th>\n",
              "    </tr>\n",
              "  </thead>\n",
              "  <tbody>\n",
              "    <tr>\n",
              "      <th>0</th>\n",
              "      <td>0</td>\n",
              "      <td>0</td>\n",
              "      <td>112641466.0</td>\n",
              "      <td>3</td>\n",
              "      <td>0</td>\n",
              "      <td>Benign</td>\n",
              "    </tr>\n",
              "    <tr>\n",
              "      <th>1</th>\n",
              "      <td>0</td>\n",
              "      <td>0</td>\n",
              "      <td>112638623.0</td>\n",
              "      <td>3</td>\n",
              "      <td>0</td>\n",
              "      <td>Benign</td>\n",
              "    </tr>\n",
              "    <tr>\n",
              "      <th>2</th>\n",
              "      <td>22</td>\n",
              "      <td>6</td>\n",
              "      <td>6453966.0</td>\n",
              "      <td>15</td>\n",
              "      <td>10</td>\n",
              "      <td>Benign</td>\n",
              "    </tr>\n",
              "    <tr>\n",
              "      <th>3</th>\n",
              "      <td>22</td>\n",
              "      <td>6</td>\n",
              "      <td>8804066.0</td>\n",
              "      <td>14</td>\n",
              "      <td>11</td>\n",
              "      <td>Benign</td>\n",
              "    </tr>\n",
              "    <tr>\n",
              "      <th>4</th>\n",
              "      <td>22</td>\n",
              "      <td>6</td>\n",
              "      <td>6989341.0</td>\n",
              "      <td>16</td>\n",
              "      <td>12</td>\n",
              "      <td>Benign</td>\n",
              "    </tr>\n",
              "    <tr>\n",
              "      <th>...</th>\n",
              "      <td>...</td>\n",
              "      <td>...</td>\n",
              "      <td>...</td>\n",
              "      <td>...</td>\n",
              "      <td>...</td>\n",
              "      <td>...</td>\n",
              "    </tr>\n",
              "    <tr>\n",
              "      <th>1048569</th>\n",
              "      <td>80</td>\n",
              "      <td>6</td>\n",
              "      <td>10156986.0</td>\n",
              "      <td>5</td>\n",
              "      <td>5</td>\n",
              "      <td>Benign</td>\n",
              "    </tr>\n",
              "    <tr>\n",
              "      <th>1048570</th>\n",
              "      <td>80</td>\n",
              "      <td>6</td>\n",
              "      <td>117.0</td>\n",
              "      <td>2</td>\n",
              "      <td>0</td>\n",
              "      <td>Benign</td>\n",
              "    </tr>\n",
              "    <tr>\n",
              "      <th>1048571</th>\n",
              "      <td>80</td>\n",
              "      <td>6</td>\n",
              "      <td>5095331.0</td>\n",
              "      <td>3</td>\n",
              "      <td>1</td>\n",
              "      <td>Benign</td>\n",
              "    </tr>\n",
              "    <tr>\n",
              "      <th>1048572</th>\n",
              "      <td>80</td>\n",
              "      <td>6</td>\n",
              "      <td>5235511.0</td>\n",
              "      <td>3</td>\n",
              "      <td>1</td>\n",
              "      <td>Benign</td>\n",
              "    </tr>\n",
              "    <tr>\n",
              "      <th>1048573</th>\n",
              "      <td>443</td>\n",
              "      <td>6</td>\n",
              "      <td>5807256.0</td>\n",
              "      <td>6</td>\n",
              "      <td>4</td>\n",
              "      <td>Benign</td>\n",
              "    </tr>\n",
              "  </tbody>\n",
              "</table>\n",
              "<p>1048574 rows × 6 columns</p>\n",
              "</div>\n",
              "    <div class=\"colab-df-buttons\">\n",
              "\n",
              "  <div class=\"colab-df-container\">\n",
              "    <button class=\"colab-df-convert\" onclick=\"convertToInteractive('df-e91e4a01-0c2e-425c-8072-fcba4f51f5a5')\"\n",
              "            title=\"Convert this dataframe to an interactive table.\"\n",
              "            style=\"display:none;\">\n",
              "\n",
              "  <svg xmlns=\"http://www.w3.org/2000/svg\" height=\"24px\" viewBox=\"0 -960 960 960\">\n",
              "    <path d=\"M120-120v-720h720v720H120Zm60-500h600v-160H180v160Zm220 220h160v-160H400v160Zm0 220h160v-160H400v160ZM180-400h160v-160H180v160Zm440 0h160v-160H620v160ZM180-180h160v-160H180v160Zm440 0h160v-160H620v160Z\"/>\n",
              "  </svg>\n",
              "    </button>\n",
              "\n",
              "  <style>\n",
              "    .colab-df-container {\n",
              "      display:flex;\n",
              "      gap: 12px;\n",
              "    }\n",
              "\n",
              "    .colab-df-convert {\n",
              "      background-color: #E8F0FE;\n",
              "      border: none;\n",
              "      border-radius: 50%;\n",
              "      cursor: pointer;\n",
              "      display: none;\n",
              "      fill: #1967D2;\n",
              "      height: 32px;\n",
              "      padding: 0 0 0 0;\n",
              "      width: 32px;\n",
              "    }\n",
              "\n",
              "    .colab-df-convert:hover {\n",
              "      background-color: #E2EBFA;\n",
              "      box-shadow: 0px 1px 2px rgba(60, 64, 67, 0.3), 0px 1px 3px 1px rgba(60, 64, 67, 0.15);\n",
              "      fill: #174EA6;\n",
              "    }\n",
              "\n",
              "    .colab-df-buttons div {\n",
              "      margin-bottom: 4px;\n",
              "    }\n",
              "\n",
              "    [theme=dark] .colab-df-convert {\n",
              "      background-color: #3B4455;\n",
              "      fill: #D2E3FC;\n",
              "    }\n",
              "\n",
              "    [theme=dark] .colab-df-convert:hover {\n",
              "      background-color: #434B5C;\n",
              "      box-shadow: 0px 1px 3px 1px rgba(0, 0, 0, 0.15);\n",
              "      filter: drop-shadow(0px 1px 2px rgba(0, 0, 0, 0.3));\n",
              "      fill: #FFFFFF;\n",
              "    }\n",
              "  </style>\n",
              "\n",
              "    <script>\n",
              "      const buttonEl =\n",
              "        document.querySelector('#df-e91e4a01-0c2e-425c-8072-fcba4f51f5a5 button.colab-df-convert');\n",
              "      buttonEl.style.display =\n",
              "        google.colab.kernel.accessAllowed ? 'block' : 'none';\n",
              "\n",
              "      async function convertToInteractive(key) {\n",
              "        const element = document.querySelector('#df-e91e4a01-0c2e-425c-8072-fcba4f51f5a5');\n",
              "        const dataTable =\n",
              "          await google.colab.kernel.invokeFunction('convertToInteractive',\n",
              "                                                    [key], {});\n",
              "        if (!dataTable) return;\n",
              "\n",
              "        const docLinkHtml = 'Like what you see? Visit the ' +\n",
              "          '<a target=\"_blank\" href=https://colab.research.google.com/notebooks/data_table.ipynb>data table notebook</a>'\n",
              "          + ' to learn more about interactive tables.';\n",
              "        element.innerHTML = '';\n",
              "        dataTable['output_type'] = 'display_data';\n",
              "        await google.colab.output.renderOutput(dataTable, element);\n",
              "        const docLink = document.createElement('div');\n",
              "        docLink.innerHTML = docLinkHtml;\n",
              "        element.appendChild(docLink);\n",
              "      }\n",
              "    </script>\n",
              "  </div>\n",
              "\n",
              "\n",
              "<div id=\"df-6f626e6c-1182-4407-b217-8bb9fd056d69\">\n",
              "  <button class=\"colab-df-quickchart\" onclick=\"quickchart('df-6f626e6c-1182-4407-b217-8bb9fd056d69')\"\n",
              "            title=\"Suggest charts\"\n",
              "            style=\"display:none;\">\n",
              "\n",
              "<svg xmlns=\"http://www.w3.org/2000/svg\" height=\"24px\"viewBox=\"0 0 24 24\"\n",
              "     width=\"24px\">\n",
              "    <g>\n",
              "        <path d=\"M19 3H5c-1.1 0-2 .9-2 2v14c0 1.1.9 2 2 2h14c1.1 0 2-.9 2-2V5c0-1.1-.9-2-2-2zM9 17H7v-7h2v7zm4 0h-2V7h2v10zm4 0h-2v-4h2v4z\"/>\n",
              "    </g>\n",
              "</svg>\n",
              "  </button>\n",
              "\n",
              "<style>\n",
              "  .colab-df-quickchart {\n",
              "      --bg-color: #E8F0FE;\n",
              "      --fill-color: #1967D2;\n",
              "      --hover-bg-color: #E2EBFA;\n",
              "      --hover-fill-color: #174EA6;\n",
              "      --disabled-fill-color: #AAA;\n",
              "      --disabled-bg-color: #DDD;\n",
              "  }\n",
              "\n",
              "  [theme=dark] .colab-df-quickchart {\n",
              "      --bg-color: #3B4455;\n",
              "      --fill-color: #D2E3FC;\n",
              "      --hover-bg-color: #434B5C;\n",
              "      --hover-fill-color: #FFFFFF;\n",
              "      --disabled-bg-color: #3B4455;\n",
              "      --disabled-fill-color: #666;\n",
              "  }\n",
              "\n",
              "  .colab-df-quickchart {\n",
              "    background-color: var(--bg-color);\n",
              "    border: none;\n",
              "    border-radius: 50%;\n",
              "    cursor: pointer;\n",
              "    display: none;\n",
              "    fill: var(--fill-color);\n",
              "    height: 32px;\n",
              "    padding: 0;\n",
              "    width: 32px;\n",
              "  }\n",
              "\n",
              "  .colab-df-quickchart:hover {\n",
              "    background-color: var(--hover-bg-color);\n",
              "    box-shadow: 0 1px 2px rgba(60, 64, 67, 0.3), 0 1px 3px 1px rgba(60, 64, 67, 0.15);\n",
              "    fill: var(--button-hover-fill-color);\n",
              "  }\n",
              "\n",
              "  .colab-df-quickchart-complete:disabled,\n",
              "  .colab-df-quickchart-complete:disabled:hover {\n",
              "    background-color: var(--disabled-bg-color);\n",
              "    fill: var(--disabled-fill-color);\n",
              "    box-shadow: none;\n",
              "  }\n",
              "\n",
              "  .colab-df-spinner {\n",
              "    border: 2px solid var(--fill-color);\n",
              "    border-color: transparent;\n",
              "    border-bottom-color: var(--fill-color);\n",
              "    animation:\n",
              "      spin 1s steps(1) infinite;\n",
              "  }\n",
              "\n",
              "  @keyframes spin {\n",
              "    0% {\n",
              "      border-color: transparent;\n",
              "      border-bottom-color: var(--fill-color);\n",
              "      border-left-color: var(--fill-color);\n",
              "    }\n",
              "    20% {\n",
              "      border-color: transparent;\n",
              "      border-left-color: var(--fill-color);\n",
              "      border-top-color: var(--fill-color);\n",
              "    }\n",
              "    30% {\n",
              "      border-color: transparent;\n",
              "      border-left-color: var(--fill-color);\n",
              "      border-top-color: var(--fill-color);\n",
              "      border-right-color: var(--fill-color);\n",
              "    }\n",
              "    40% {\n",
              "      border-color: transparent;\n",
              "      border-right-color: var(--fill-color);\n",
              "      border-top-color: var(--fill-color);\n",
              "    }\n",
              "    60% {\n",
              "      border-color: transparent;\n",
              "      border-right-color: var(--fill-color);\n",
              "    }\n",
              "    80% {\n",
              "      border-color: transparent;\n",
              "      border-right-color: var(--fill-color);\n",
              "      border-bottom-color: var(--fill-color);\n",
              "    }\n",
              "    90% {\n",
              "      border-color: transparent;\n",
              "      border-bottom-color: var(--fill-color);\n",
              "    }\n",
              "  }\n",
              "</style>\n",
              "\n",
              "  <script>\n",
              "    async function quickchart(key) {\n",
              "      const quickchartButtonEl =\n",
              "        document.querySelector('#' + key + ' button');\n",
              "      quickchartButtonEl.disabled = true;  // To prevent multiple clicks.\n",
              "      quickchartButtonEl.classList.add('colab-df-spinner');\n",
              "      try {\n",
              "        const charts = await google.colab.kernel.invokeFunction(\n",
              "            'suggestCharts', [key], {});\n",
              "      } catch (error) {\n",
              "        console.error('Error during call to suggestCharts:', error);\n",
              "      }\n",
              "      quickchartButtonEl.classList.remove('colab-df-spinner');\n",
              "      quickchartButtonEl.classList.add('colab-df-quickchart-complete');\n",
              "    }\n",
              "    (() => {\n",
              "      let quickchartButtonEl =\n",
              "        document.querySelector('#df-6f626e6c-1182-4407-b217-8bb9fd056d69 button');\n",
              "      quickchartButtonEl.style.display =\n",
              "        google.colab.kernel.accessAllowed ? 'block' : 'none';\n",
              "    })();\n",
              "  </script>\n",
              "</div>\n",
              "    </div>\n",
              "  </div>\n"
            ],
            "text/plain": [
              "           0  0.1    112641719   3  0.2  Benign\n",
              "0          0    0  112641466.0   3    0  Benign\n",
              "1          0    0  112638623.0   3    0  Benign\n",
              "2         22    6    6453966.0  15   10  Benign\n",
              "3         22    6    8804066.0  14   11  Benign\n",
              "4         22    6    6989341.0  16   12  Benign\n",
              "...      ...  ...          ...  ..  ...     ...\n",
              "1048569   80    6   10156986.0   5    5  Benign\n",
              "1048570   80    6        117.0   2    0  Benign\n",
              "1048571   80    6    5095331.0   3    1  Benign\n",
              "1048572   80    6    5235511.0   3    1  Benign\n",
              "1048573  443    6    5807256.0   6    4  Benign\n",
              "\n",
              "[1048574 rows x 6 columns]"
            ]
          },
          "execution_count": 3,
          "metadata": {},
          "output_type": "execute_result"
        }
      ],
      "source": [
        "dataset"
      ]
    },
    {
      "cell_type": "markdown",
      "metadata": {
        "id": "X4gF9R47iQLC"
      },
      "source": [
        "#Using standard scaler to normalize dataset values in the range [0, 1], deep learning models tend to be more accurate with normalized data."
      ]
    },
    {
      "cell_type": "code",
      "execution_count": null,
      "metadata": {
        "id": "YfEWIWbTFJSS"
      },
      "outputs": [],
      "source": [
        "from sklearn.preprocessing import StandardScaler\n",
        "scaler = StandardScaler()\n",
        "scaled_dataset = scaler.fit_transform(dataset.iloc[:,:5])"
      ]
    },
    {
      "cell_type": "code",
      "execution_count": null,
      "metadata": {
        "colab": {
          "base_uri": "https://localhost:8080/"
        },
        "id": "5XmnNV-jFuUZ",
        "outputId": "f8ed7e1e-2be3-40c6-a802-4a1b2596326d"
      },
      "outputs": [
        {
          "data": {
            "text/plain": [
              "(1048574, 5)"
            ]
          },
          "execution_count": 5,
          "metadata": {},
          "output_type": "execute_result"
        }
      ],
      "source": [
        "scaled_dataset.shape"
      ]
    },
    {
      "cell_type": "code",
      "execution_count": null,
      "metadata": {
        "colab": {
          "base_uri": "https://localhost:8080/"
        },
        "id": "V5gewX-hYDaC",
        "outputId": "1786462a-e199-4a65-aae3-ccf122cdc4d6"
      },
      "outputs": [
        {
          "data": {
            "text/plain": [
              "array(['Benign', 'FTP-BruteForce', 'SSH-Bruteforce'], dtype=object)"
            ]
          },
          "execution_count": 6,
          "metadata": {},
          "output_type": "execute_result"
        }
      ],
      "source": [
        "import numpy as np\n",
        "labels = dataset.iloc[:,5:]\n",
        "np.unique(labels)"
      ]
    },
    {
      "cell_type": "markdown",
      "metadata": {
        "id": "3aPcDr-viqgS"
      },
      "source": [
        "#Encoding labels which are in string data to numerical using LabelEncoder that converts string to integer since the model can only work with numerical values."
      ]
    },
    {
      "cell_type": "code",
      "execution_count": null,
      "metadata": {
        "colab": {
          "base_uri": "https://localhost:8080/"
        },
        "id": "I1uNfbjhZS3-",
        "outputId": "05b7c001-ccb2-464f-c5be-8eb4f3a91678"
      },
      "outputs": [
        {
          "name": "stderr",
          "output_type": "stream",
          "text": [
            "/usr/local/lib/python3.10/dist-packages/sklearn/preprocessing/_label.py:116: DataConversionWarning: A column-vector y was passed when a 1d array was expected. Please change the shape of y to (n_samples, ), for example using ravel().\n",
            "  y = column_or_1d(y, warn=True)\n"
          ]
        },
        {
          "data": {
            "text/plain": [
              "array([0, 0, 0, ..., 0, 0, 0])"
            ]
          },
          "execution_count": 7,
          "metadata": {},
          "output_type": "execute_result"
        }
      ],
      "source": [
        "from sklearn.preprocessing import LabelEncoder\n",
        "label_encoder = LabelEncoder()\n",
        "encoded_labels = label_encoder.fit_transform(labels)\n",
        "encoded_labels"
      ]
    },
    {
      "cell_type": "code",
      "execution_count": null,
      "metadata": {
        "colab": {
          "base_uri": "https://localhost:8080/"
        },
        "id": "7aaoiaXHceE1",
        "outputId": "037eab2d-9293-47b5-894b-81cb38c11bb9"
      },
      "outputs": [
        {
          "data": {
            "text/plain": [
              "array([0, 1, 2])"
            ]
          },
          "execution_count": 8,
          "metadata": {},
          "output_type": "execute_result"
        }
      ],
      "source": [
        "np.unique(encoded_labels)"
      ]
    },
    {
      "cell_type": "markdown",
      "metadata": {
        "id": "UdnPY67Ei65G"
      },
      "source": [
        "#Splitting the dataset into train and test datasets. The chosen split is 80% data for training and 20% data for testing."
      ]
    },
    {
      "cell_type": "code",
      "execution_count": null,
      "metadata": {
        "colab": {
          "base_uri": "https://localhost:8080/"
        },
        "id": "T4JP79j8cgjT",
        "outputId": "a545f579-859f-44ba-bbc0-c7d3ddac4120"
      },
      "outputs": [
        {
          "data": {
            "text/plain": [
              "((838859, 5), (209715, 5), (838859,), (209715,))"
            ]
          },
          "execution_count": 9,
          "metadata": {},
          "output_type": "execute_result"
        }
      ],
      "source": [
        "import tensorflow as tf\n",
        "import random\n",
        "from sklearn.model_selection import train_test_split\n",
        "tf.random.set_seed(42)\n",
        "X_train, X_test, y_train, y_test = train_test_split(scaled_dataset, encoded_labels, test_size=0.2, random_state=42)\n",
        "X_train.shape, X_test.shape, y_train.shape, y_test.shape"
      ]
    },
    {
      "cell_type": "markdown",
      "metadata": {
        "id": "ADlUeXFG4BOF"
      },
      "source": [
        "# Obtaining Predictions using naive bayes classifier"
      ]
    },
    {
      "cell_type": "code",
      "execution_count": null,
      "metadata": {
        "id": "Z8Tu852ETlow"
      },
      "outputs": [],
      "source": [
        "from sklearn.naive_bayes import GaussianNB\n",
        "from sklearn.metrics import accuracy_score, classification_report\n",
        "naive_bayes = GaussianNB()\n",
        "naive_bayes_history = naive_bayes.fit(X_train, y_train)\n",
        "predictions = naive_bayes.predict(X_test)\n",
        "accuracy = accuracy_score(y_test, predictions)"
      ]
    },
    {
      "cell_type": "code",
      "execution_count": null,
      "metadata": {
        "colab": {
          "base_uri": "https://localhost:8080/"
        },
        "id": "jfWYTsTjZ23-",
        "outputId": "0c719f5c-e671-4c74-8668-01ded1bbe253"
      },
      "outputs": [
        {
          "data": {
            "text/plain": [
              "91.02782347471569"
            ]
          },
          "execution_count": 37,
          "metadata": {},
          "output_type": "execute_result"
        }
      ],
      "source": [
        "accuracy*100"
      ]
    },
    {
      "cell_type": "markdown",
      "metadata": {
        "id": "a4WI-wIV0G7P"
      },
      "source": [
        "# Obtaining predictions using the random forest classifier"
      ]
    },
    {
      "cell_type": "code",
      "execution_count": null,
      "metadata": {
        "id": "tj2iadooz9YK"
      },
      "outputs": [],
      "source": [
        "from sklearn.ensemble import RandomForestClassifier\n",
        "random_forest = RandomForestClassifier(n_estimators=100, random_state=42)\n",
        "random_forest_history = random_forest.fit(X_train, y_train)\n",
        "rf_predictions = random_forest.predict(X_test)\n",
        "accuracy_random_forest = accuracy_score(y_test, rf_predictions)"
      ]
    },
    {
      "cell_type": "code",
      "execution_count": null,
      "metadata": {
        "colab": {
          "base_uri": "https://localhost:8080/"
        },
        "id": "eaScLDPr24Nq",
        "outputId": "6492c097-e3dd-4d3b-ff64-e2e3d5ed3791"
      },
      "outputs": [
        {
          "data": {
            "text/plain": [
              "99.99570846148345"
            ]
          },
          "execution_count": 38,
          "metadata": {},
          "output_type": "execute_result"
        }
      ],
      "source": [
        "accuracy_random_forest*100"
      ]
    },
    {
      "cell_type": "markdown",
      "metadata": {
        "id": "S0kh1p9YDAAh"
      },
      "source": [
        "#Obtaining predictions using K-Nearest Neighbour classifier"
      ]
    },
    {
      "cell_type": "code",
      "execution_count": null,
      "metadata": {
        "id": "8Z5n2jI05sgA"
      },
      "outputs": [],
      "source": [
        "from sklearn.neighbors import KNeighborsClassifier\n",
        "knearest_classifier = KNeighborsClassifier(n_neighbors=3)\n",
        "knearest_history = knearest_classifier.fit(X_train, y_train)\n",
        "knn_predictions = knearest_classifier.predict(X_test)\n",
        "accuracy_knearest = accuracy_score(y_test, knn_predictions)"
      ]
    },
    {
      "cell_type": "code",
      "execution_count": null,
      "metadata": {
        "colab": {
          "base_uri": "https://localhost:8080/"
        },
        "id": "hNjVB5PzJZ8D",
        "outputId": "6395ff33-e24c-4a47-a62e-ceb311b98a66"
      },
      "outputs": [
        {
          "data": {
            "text/plain": [
              "99.9961852990964"
            ]
          },
          "execution_count": 39,
          "metadata": {},
          "output_type": "execute_result"
        }
      ],
      "source": [
        "accuracy_knearest*100"
      ]
    },
    {
      "cell_type": "markdown",
      "metadata": {
        "id": "2RWe6nSpU8UR"
      },
      "source": [
        "#Obtaining predictions using adaboost with decision tree as base classifier"
      ]
    },
    {
      "cell_type": "code",
      "execution_count": null,
      "metadata": {
        "id": "HQviFEIJVDrS"
      },
      "outputs": [],
      "source": [
        "from sklearn.ensemble import AdaBoostClassifier\n",
        "from sklearn.tree import DecisionTreeClassifier\n",
        "base_classifier = DecisionTreeClassifier(max_depth=3)\n",
        "adaboost_classifier = AdaBoostClassifier(base_classifier, n_estimators=100, random_state=42)\n",
        "adaboost_history = adaboost_classifier.fit(X_train, y_train)\n",
        "adaboost_predictions = adaboost_classifier.predict(X_test)\n",
        "accuracy_adaboost = accuracy_score(y_test, adaboost_predictions)"
      ]
    },
    {
      "cell_type": "code",
      "execution_count": null,
      "metadata": {
        "colab": {
          "base_uri": "https://localhost:8080/"
        },
        "id": "frXa_g29VpAR",
        "outputId": "d38d91e1-4f7e-4704-840d-0f5707f7ca80"
      },
      "outputs": [
        {
          "data": {
            "text/plain": [
              "99.9961852990964"
            ]
          },
          "execution_count": 40,
          "metadata": {},
          "output_type": "execute_result"
        }
      ],
      "source": [
        "accuracy_adaboost*100"
      ]
    },
    {
      "cell_type": "markdown",
      "metadata": {
        "id": "oDNbXO-im1-e"
      },
      "source": [
        "#Obtaining predictions using Multi Layer Perceptron (MLP)"
      ]
    },
    {
      "cell_type": "code",
      "execution_count": null,
      "metadata": {
        "id": "wSkuI-RQm9ar"
      },
      "outputs": [],
      "source": [
        "from sklearn.neural_network import MLPClassifier\n",
        "mlp_classifier = MLPClassifier(hidden_layer_sizes=(100,), max_iter=300, random_state=42)\n",
        "mlp_history = mlp_classifier.fit(X_train, y_train)\n",
        "mlp_predictions = mlp_classifier.predict(X_test)\n",
        "accuracy_mlp = accuracy_score(y_test, mlp_predictions)"
      ]
    },
    {
      "cell_type": "code",
      "execution_count": null,
      "metadata": {
        "colab": {
          "base_uri": "https://localhost:8080/"
        },
        "id": "An4U1M2in4mx",
        "outputId": "25892d7b-748b-4a42-c42b-2725ee974b7d"
      },
      "outputs": [
        {
          "data": {
            "text/plain": [
              "91.00255108122929"
            ]
          },
          "execution_count": 41,
          "metadata": {},
          "output_type": "execute_result"
        }
      ],
      "source": [
        "accuracy_mlp*100"
      ]
    },
    {
      "cell_type": "markdown",
      "metadata": {
        "id": "d_DRquA2qvv-"
      },
      "source": [
        "#fitting the data on a custom sequential model with Dense layers having multiple nodes each using adam optimizer with relu and softmax activation functions.\n",
        "#batch size 32 and training for 5 epochs."
      ]
    },
    {
      "cell_type": "code",
      "execution_count": null,
      "metadata": {
        "colab": {
          "base_uri": "https://localhost:8080/"
        },
        "id": "FntQ0lNOqsup",
        "outputId": "e5d5c53b-161d-4b5b-a5ed-cfc84059818e"
      },
      "outputs": [
        {
          "name": "stdout",
          "output_type": "stream",
          "text": [
            "Epoch 1/5\n",
            "20972/20972 [==============================] - 96s 4ms/step - loss: 0.2564 - accuracy: 0.9044 - val_loss: 0.1855 - val_accuracy: 0.9088\n",
            "Epoch 2/5\n",
            "20972/20972 [==============================] - 84s 4ms/step - loss: 0.1946 - accuracy: 0.9094 - val_loss: 0.1826 - val_accuracy: 0.9086\n",
            "Epoch 3/5\n",
            "20972/20972 [==============================] - 82s 4ms/step - loss: 0.1821 - accuracy: 0.9094 - val_loss: 0.1818 - val_accuracy: 0.9086\n",
            "Epoch 4/5\n",
            "20972/20972 [==============================] - 85s 4ms/step - loss: 0.1815 - accuracy: 0.9095 - val_loss: 0.1836 - val_accuracy: 0.9086\n",
            "Epoch 5/5\n",
            "20972/20972 [==============================] - 81s 4ms/step - loss: 0.1818 - accuracy: 0.9095 - val_loss: 0.1824 - val_accuracy: 0.9086\n",
            "6554/6554 [==============================] - 14s 2ms/step\n"
          ]
        }
      ],
      "source": [
        "from tensorflow.keras.models import Sequential\n",
        "from tensorflow.keras.layers import Dense\n",
        "from sklearn.metrics import classification_report\n",
        "\n",
        "model = Sequential()\n",
        "model.add(Dense(units=64, activation='relu', input_dim=X_train.shape[1]))\n",
        "model.add(Dense(units=32, activation='relu'))\n",
        "model.add(Dense(units=3, activation='softmax'))\n",
        "\n",
        "model.compile(optimizer='adam', loss='sparse_categorical_crossentropy', metrics=['accuracy'])\n",
        "sequential_history = model.fit(X_train, y_train, epochs=5, batch_size=32, validation_split=0.2)\n",
        "sequential_predictions = model.predict(X_test)\n",
        "sequential_predictions = np.argmax(sequential_predictions, axis=1)\n",
        "accuracy_sequential = accuracy_score(y_test, sequential_predictions)"
      ]
    },
    {
      "cell_type": "code",
      "execution_count": null,
      "metadata": {
        "colab": {
          "base_uri": "https://localhost:8080/"
        },
        "id": "u-gq1UNhsrUz",
        "outputId": "0f7b6388-164c-40be-e3ab-0b0950170635"
      },
      "outputs": [
        {
          "data": {
            "text/plain": [
              "0.908780964642491"
            ]
          },
          "execution_count": 21,
          "metadata": {},
          "output_type": "execute_result"
        }
      ],
      "source": [
        "accuracy_sequential"
      ]
    },
    {
      "cell_type": "markdown",
      "metadata": {
        "id": "-o_K8RdDz-Ip"
      },
      "source": [
        "#As we can see from the training of this model the model reaches saturation on the very first epoch as the acuracy does not increse any further. Below is analysis about choosing the right learning rate."
      ]
    },
    {
      "cell_type": "code",
      "execution_count": null,
      "metadata": {
        "id": "U_mJIiNc3G9j"
      },
      "outputs": [],
      "source": [
        "def lr_schedule(epoch):\n",
        "    initial_lr = 0.01\n",
        "    decay = 0.9\n",
        "    lr = initial_lr * decay ** epoch\n",
        "    return lr"
      ]
    },
    {
      "cell_type": "code",
      "execution_count": null,
      "metadata": {
        "colab": {
          "base_uri": "https://localhost:8080/"
        },
        "id": "m0pWctFW2-4W",
        "outputId": "4b365c96-0809-4da3-95ea-bf94b3c6c082"
      },
      "outputs": [
        {
          "name": "stdout",
          "output_type": "stream",
          "text": [
            "Epoch 1/5\n",
            "20972/20972 [==============================] - 86s 4ms/step - loss: 0.2550 - accuracy: 0.9060 - val_loss: 0.1853 - val_accuracy: 0.9084 - lr: 0.0100\n",
            "Epoch 2/5\n",
            "20972/20972 [==============================] - 93s 4ms/step - loss: 0.1863 - accuracy: 0.9087 - val_loss: 0.1846 - val_accuracy: 0.9085 - lr: 0.0090\n",
            "Epoch 3/5\n",
            "20972/20972 [==============================] - 94s 4ms/step - loss: 0.2338 - accuracy: 0.9089 - val_loss: 0.1830 - val_accuracy: 0.9085 - lr: 0.0081\n",
            "Epoch 4/5\n",
            "20972/20972 [==============================] - 95s 5ms/step - loss: 0.1831 - accuracy: 0.9092 - val_loss: 0.1843 - val_accuracy: 0.9084 - lr: 0.0073\n",
            "Epoch 5/5\n",
            "20972/20972 [==============================] - 83s 4ms/step - loss: 0.1829 - accuracy: 0.9093 - val_loss: 0.1824 - val_accuracy: 0.9086 - lr: 0.0066\n",
            "6554/6554 [==============================] - 13s 2ms/step\n"
          ]
        }
      ],
      "source": [
        "from tensorflow.keras.models import Sequential\n",
        "from tensorflow.keras.layers import Dense\n",
        "from sklearn.metrics import classification_report\n",
        "from tensorflow.keras.callbacks import LearningRateScheduler\n",
        "\n",
        "model = Sequential()\n",
        "model.add(Dense(units=64, activation='relu', input_dim=X_train.shape[1]))\n",
        "model.add(Dense(units=32, activation='relu'))\n",
        "model.add(Dense(units=3, activation='softmax'))\n",
        "model.compile(optimizer='adam', loss='sparse_categorical_crossentropy', metrics=['accuracy'])\n",
        "\n",
        "history = model.fit(\n",
        "    X_train,\n",
        "    y_train,\n",
        "    epochs=5,\n",
        "    batch_size=32,\n",
        "    validation_split=0.2,\n",
        "    callbacks=[LearningRateScheduler(lr_schedule)]\n",
        ")\n",
        "\n",
        "sequential_predictions = model.predict(X_test)\n",
        "sequential_predictions = np.argmax(sequential_predictions, axis=1)\n",
        "accuracy_sequential = accuracy_score(y_test, sequential_predictions)"
      ]
    },
    {
      "cell_type": "code",
      "execution_count": null,
      "metadata": {
        "colab": {
          "base_uri": "https://localhost:8080/",
          "height": 472
        },
        "id": "ro8givxF3yaF",
        "outputId": "b50c9f4d-e8ef-4f84-df28-bdf66fd41a76"
      },
      "outputs": [
        {
          "data": {
            "image/png": "[encoded data removed]",
            "text/plain": [
              "<Figure size 640x480 with 1 Axes>"
            ]
          },
          "metadata": {},
          "output_type": "display_data"
        }
      ],
      "source": [
        "import matplotlib.pyplot as plt\n",
        "\n",
        "plt.plot(history.history['lr'], history.history['accuracy'])\n",
        "plt.xlabel('Learning Rate')\n",
        "plt.ylabel('Accuracy')\n",
        "plt.title('Accuracy vs Learning Rate')\n",
        "plt.show()"
      ]
    },
    {
      "cell_type": "markdown",
      "metadata": {
        "id": "Ss4sqKcT7T4Q"
      },
      "source": [
        "#It is visible from the graph that the accuracy increases where the learning rate is approximately 0.0075, otherwise it is decreasing, the model below is trained by using the learning rate at 0.0075 to check if the model improves."
      ]
    },
    {
      "cell_type": "code",
      "execution_count": null,
      "metadata": {
        "colab": {
          "base_uri": "https://localhost:8080/"
        },
        "id": "DtNJgXl77GyQ",
        "outputId": "517dc47f-7f37-4187-eb0b-4cd65f9e1635"
      },
      "outputs": [
        {
          "name": "stdout",
          "output_type": "stream",
          "text": [
            "Epoch 1/5\n",
            "20972/20972 [==============================] - 85s 4ms/step - loss: 0.2619 - accuracy: 0.9066 - val_loss: 0.2038 - val_accuracy: 0.9051\n",
            "Epoch 2/5\n",
            "20972/20972 [==============================] - 96s 5ms/step - loss: 0.1963 - accuracy: 0.9089 - val_loss: 0.1835 - val_accuracy: 0.9086\n",
            "Epoch 3/5\n",
            "20972/20972 [==============================] - 84s 4ms/step - loss: 0.1846 - accuracy: 0.9089 - val_loss: 0.1837 - val_accuracy: 0.9085\n",
            "Epoch 4/5\n",
            "20972/20972 [==============================] - 85s 4ms/step - loss: 0.1837 - accuracy: 0.9091 - val_loss: 0.1973 - val_accuracy: 0.9028\n",
            "Epoch 5/5\n",
            "20972/20972 [==============================] - 95s 5ms/step - loss: 0.1839 - accuracy: 0.9091 - val_loss: 0.1829 - val_accuracy: 0.9085\n",
            "6554/6554 [==============================] - 13s 2ms/step\n"
          ]
        }
      ],
      "source": [
        "from tensorflow.keras.models import Sequential\n",
        "from tensorflow.keras.layers import Dense\n",
        "from sklearn.metrics import classification_report\n",
        "from tensorflow.keras.optimizers import Adam\n",
        "from tensorflow.keras.callbacks import LearningRateScheduler\n",
        "\n",
        "model = Sequential()\n",
        "model.add(Dense(units=64, activation='relu', input_dim=X_train.shape[1]))\n",
        "model.add(Dense(units=32, activation='relu'))\n",
        "model.add(Dense(units=3, activation='softmax'))\n",
        "model.compile(optimizer=Adam(learning_rate=0.0075), loss='sparse_categorical_crossentropy', metrics=['accuracy'])\n",
        "\n",
        "history = model.fit(\n",
        "    X_train,\n",
        "    y_train,\n",
        "    epochs=5,\n",
        "    batch_size=32,\n",
        "    validation_split=0.2,\n",
        ")\n",
        "\n",
        "sequential_predictions = model.predict(X_test)\n",
        "sequential_predictions = np.argmax(sequential_predictions, axis=1)\n",
        "accuracy_sequential = accuracy_score(y_test, sequential_predictions)"
      ]
    },
    {
      "cell_type": "markdown",
      "metadata": {
        "id": "i4H8FUWH_hVj"
      },
      "source": [
        "#The learning rate did not improve accuracy significantly so now, we will try to improve the model by making it more complex and adding more dense layers with higher number of hidden nodes."
      ]
    },
    {
      "cell_type": "code",
      "execution_count": null,
      "metadata": {
        "colab": {
          "base_uri": "https://localhost:8080/"
        },
        "id": "Tk7UvY3OK0S9",
        "outputId": "459f1df2-72d0-4d8a-80a7-43463f2b363d"
      },
      "outputs": [
        {
          "name": "stdout",
          "output_type": "stream",
          "text": [
            "Epoch 1/5\n",
            "20972/20972 [==============================] - 100s 5ms/step - loss: 0.3880 - accuracy: 0.8051 - val_loss: 0.4671 - val_accuracy: 0.7455\n",
            "Epoch 2/5\n",
            "20972/20972 [==============================] - 97s 5ms/step - loss: 0.5742 - accuracy: 0.6632 - val_loss: 0.5695 - val_accuracy: 0.6671\n",
            "Epoch 3/5\n",
            "20972/20972 [==============================] - 107s 5ms/step - loss: 0.5650 - accuracy: 0.6793 - val_loss: 0.5558 - val_accuracy: 0.6771\n",
            "Epoch 4/5\n",
            "20972/20972 [==============================] - 109s 5ms/step - loss: 0.6028 - accuracy: 0.6462 - val_loss: 0.5567 - val_accuracy: 0.6712\n",
            "Epoch 5/5\n",
            "20972/20972 [==============================] - 101s 5ms/step - loss: 0.5472 - accuracy: 0.6896 - val_loss: 0.5403 - val_accuracy: 0.6900\n",
            "6554/6554 [==============================] - 13s 2ms/step\n"
          ]
        }
      ],
      "source": [
        "from tensorflow.keras.models import Sequential\n",
        "from tensorflow.keras.layers import Dense\n",
        "from sklearn.metrics import classification_report\n",
        "from tensorflow.keras.optimizers import Adam\n",
        "from tensorflow.keras.callbacks import LearningRateScheduler\n",
        "\n",
        "model = Sequential()\n",
        "model.add(Dense(units=64, activation='relu', input_dim=X_train.shape[1]))\n",
        "model.add(Dense(units=128, activation='relu'))\n",
        "model.add(Dense(units=64, activation='relu'))\n",
        "model.add(Dense(units=32, activation='relu'))\n",
        "model.add(Dense(units=3, activation='softmax'))\n",
        "model.compile(optimizer=Adam(learning_rate=0.0075), loss='sparse_categorical_crossentropy', metrics=['accuracy'])\n",
        "\n",
        "history = model.fit(\n",
        "    X_train,\n",
        "    y_train,\n",
        "    epochs=5,\n",
        "    batch_size=32,\n",
        "    validation_split=0.2,\n",
        ")\n",
        "\n",
        "sequential_predictions = model.predict(X_test)\n",
        "sequential_predictions = np.argmax(sequential_predictions, axis=1)\n",
        "accuracy_sequential = accuracy_score(y_test, sequential_predictions)"
      ]
    },
    {
      "cell_type": "markdown",
      "metadata": {
        "id": "ZjEyHnrwNFxa"
      },
      "source": [
        "#Adding complexity did not improve results rather it made the results even worse, now let us try and reduce the complexity to check if that helps."
      ]
    },
    {
      "cell_type": "code",
      "execution_count": null,
      "metadata": {
        "colab": {
          "base_uri": "https://localhost:8080/"
        },
        "id": "1faBIJ9OLMKm",
        "outputId": "04e28eec-e0b8-4ef3-e638-bed4a6fee5ee"
      },
      "outputs": [
        {
          "name": "stdout",
          "output_type": "stream",
          "text": [
            "Epoch 1/5\n",
            "20972/20972 [==============================] - 98s 5ms/step - loss: 0.3035 - accuracy: 0.9062 - val_loss: 0.1930 - val_accuracy: 0.9071\n",
            "Epoch 2/5\n",
            "20972/20972 [==============================] - 94s 4ms/step - loss: 0.1846 - accuracy: 0.9090 - val_loss: 0.1844 - val_accuracy: 0.9085\n",
            "Epoch 3/5\n",
            "20972/20972 [==============================] - 95s 5ms/step - loss: 0.2185 - accuracy: 0.9091 - val_loss: 0.1832 - val_accuracy: 0.9085\n",
            "Epoch 4/5\n",
            "20972/20972 [==============================] - 85s 4ms/step - loss: 0.1838 - accuracy: 0.9090 - val_loss: 0.1844 - val_accuracy: 0.9084\n",
            "Epoch 5/5\n",
            "20972/20972 [==============================] - 84s 4ms/step - loss: 0.1835 - accuracy: 0.9092 - val_loss: 0.1836 - val_accuracy: 0.9085\n",
            "6554/6554 [==============================] - 13s 2ms/step\n"
          ]
        }
      ],
      "source": [
        "from tensorflow.keras.models import Sequential\n",
        "from tensorflow.keras.layers import Dense\n",
        "from sklearn.metrics import classification_report\n",
        "from tensorflow.keras.optimizers import Adam\n",
        "from tensorflow.keras.callbacks import LearningRateScheduler\n",
        "\n",
        "model = Sequential()\n",
        "model.add(Dense(units=32, activation='relu', input_dim=X_train.shape[1]))\n",
        "model.add(Dense(units=16, activation='relu'))\n",
        "model.add(Dense(units=3, activation='softmax'))\n",
        "model.compile(optimizer=Adam(learning_rate=0.0075), loss='sparse_categorical_crossentropy', metrics=['accuracy'])\n",
        "\n",
        "history = model.fit(\n",
        "    X_train,\n",
        "    y_train,\n",
        "    epochs=5,\n",
        "    batch_size=32,\n",
        "    validation_split=0.2,\n",
        ")\n",
        "\n",
        "sequential_predictions = model.predict(X_test)\n",
        "sequential_predictions = np.argmax(sequential_predictions, axis=1)\n",
        "accuracy_sequential = accuracy_score(y_test, sequential_predictions)"
      ]
    },
    {
      "cell_type": "code",
      "execution_count": null,
      "metadata": {
        "colab": {
          "base_uri": "https://localhost:8080/"
        },
        "id": "mPQv3VYSNo4R",
        "outputId": "fa086625-28e8-42e8-f9bf-9de5347b9cf7"
      },
      "outputs": [
        {
          "name": "stdout",
          "output_type": "stream",
          "text": [
            "Epoch 1/5\n",
            "20972/20972 [==============================] - 85s 4ms/step - loss: 0.4310 - accuracy: 0.7687 - val_loss: 0.3701 - val_accuracy: 0.7877\n",
            "Epoch 2/5\n",
            "20972/20972 [==============================] - 84s 4ms/step - loss: 0.3575 - accuracy: 0.8009 - val_loss: 0.2273 - val_accuracy: 0.9098\n",
            "Epoch 3/5\n",
            "20972/20972 [==============================] - 95s 5ms/step - loss: 0.1862 - accuracy: 0.9105 - val_loss: 0.1798 - val_accuracy: 0.9097\n",
            "Epoch 4/5\n",
            "20972/20972 [==============================] - 87s 4ms/step - loss: 0.1929 - accuracy: 0.9058 - val_loss: 0.3879 - val_accuracy: 0.8443\n",
            "Epoch 5/5\n",
            "20972/20972 [==============================] - 95s 5ms/step - loss: 0.2172 - accuracy: 0.8982 - val_loss: 0.1796 - val_accuracy: 0.9098\n",
            "6554/6554 [==============================] - 13s 2ms/step\n"
          ]
        }
      ],
      "source": [
        "from tensorflow.keras.models import Sequential\n",
        "from tensorflow.keras.layers import Dense\n",
        "from sklearn.metrics import classification_report\n",
        "from tensorflow.keras.optimizers import Adam\n",
        "from tensorflow.keras.callbacks import LearningRateScheduler\n",
        "\n",
        "model = Sequential()\n",
        "model.add(Dense(units=2, activation='relu', input_dim=X_train.shape[1]))\n",
        "model.add(Dense(units=4, activation='relu'))\n",
        "model.add(Dense(units=3, activation='softmax'))\n",
        "model.compile(optimizer=Adam(), loss='sparse_categorical_crossentropy', metrics=['accuracy'])\n",
        "\n",
        "sequential_history = model.fit(\n",
        "    X_train,\n",
        "    y_train,\n",
        "    epochs=5,\n",
        "    batch_size=32,\n",
        "    validation_split=0.2,\n",
        ")\n",
        "\n",
        "sequential_predictions = model.predict(X_test)\n",
        "sequential_predictions = np.argmax(sequential_predictions, axis=1)\n",
        "accuracy_sequential = accuracy_score(y_test, sequential_predictions)"
      ]
    },
    {
      "cell_type": "markdown",
      "metadata": {
        "id": "NDaG0qepeClj"
      },
      "source": [
        "#We tried to improve the sequential model by finding out and using the optimal learning rate(0.0075), introducing dropout layer to reduce overfitting, using batch normalization to increase randomness in training data, making model more complex by increasing number of hidden units and also tried by decreasing the number of hidden units but by far the highest accuracy that can be achived by all the configuration is ~ 90-91% which falls significantly behind other multi-label classifiers that we implemented during this project."
      ]
    },
    {
      "cell_type": "code",
      "execution_count": null,
      "metadata": {
        "colab": {
          "base_uri": "https://localhost:8080/"
        },
        "id": "VttV1nE5KUdS",
        "outputId": "bab46db2-e44b-43a2-b9ad-917c41881294"
      },
      "outputs": [
        {
          "data": {
            "text/plain": [
              "0.9099492167942207"
            ]
          },
          "execution_count": 29,
          "metadata": {},
          "output_type": "execute_result"
        }
      ],
      "source": [
        "accuracy_sequential"
      ]
    },
    {
      "cell_type": "code",
      "execution_count": null,
      "metadata": {
        "colab": {
          "base_uri": "https://localhost:8080/"
        },
        "id": "Q8fmCbtU5af-",
        "outputId": "f78a3427-464f-42a1-bbe0-5073c3cac0bc"
      },
      "outputs": [
        {
          "name": "stdout",
          "output_type": "stream",
          "text": [
            "Accuracy of Naive-Bayes classifier:  0.9102782347471569\n",
            "Accuracy of Random Forest classifier:  0.9999570846148345\n",
            "Accuracy of K-Nearest Neighbour classifier:  0.999961852990964\n",
            "Accuracy of Adaboost classifier:  0.999961852990964\n",
            "Accuracy of Multi-Layer Perceptron classifier:  0.9100255108122929\n",
            "Accuracy of custom sequential classifier:  0.9099492167942207\n"
          ]
        }
      ],
      "source": [
        "#Accuracy of different models\n",
        "print(\"Accuracy of Naive-Bayes classifier: \", accuracy)\n",
        "print(\"Accuracy of Random Forest classifier: \", accuracy_random_forest)\n",
        "print(\"Accuracy of K-Nearest Neighbour classifier: \", accuracy_knearest)\n",
        "print(\"Accuracy of Adaboost classifier: \", accuracy_adaboost)\n",
        "print(\"Accuracy of Multi-Layer Perceptron classifier: \", accuracy_mlp)\n",
        "print(\"Accuracy of custom sequential classifier: \", accuracy_sequential)"
      ]
    },
    {
      "cell_type": "code",
      "execution_count": null,
      "metadata": {
        "colab": {
          "base_uri": "https://localhost:8080/"
        },
        "id": "N6xGPb7XKXSx",
        "outputId": "a563f3de-2ff3-41a0-bfd6-cab083381cb4"
      },
      "outputs": [
        {
          "name": "stdout",
          "output_type": "stream",
          "text": [
            "custom sequential model\n",
            "True Poitives:  133323\n",
            "False Positives:  40\n",
            "False Negative:  0\n",
            "True Negative:  38762\n"
          ]
        }
      ],
      "source": [
        "from sklearn.metrics import confusion_matrix\n",
        "cm_sequential = confusion_matrix(y_test, sequential_predictions, labels=[0,1])\n",
        "print(\"custom sequential model\")\n",
        "print(\"True Poitives: \", cm_sequential[0][0])\n",
        "print(\"False Positives: \", cm_sequential[0][1])\n",
        "print(\"False Negative: \", cm_sequential[1][0])\n",
        "print(\"True Negative: \", cm_sequential[1][1])"
      ]
    },
    {
      "cell_type": "code",
      "execution_count": null,
      "metadata": {
        "colab": {
          "base_uri": "https://localhost:8080/"
        },
        "id": "nysXFXCoKm4S",
        "outputId": "8c6a442f-f5a8-4842-cfdd-b1c622c71510"
      },
      "outputs": [
        {
          "name": "stdout",
          "output_type": "stream",
          "text": [
            "MultiLayerPerceptron\n",
            "True Poitives:  133340\n",
            "False Positives:  29\n",
            "False Negative:  0\n",
            "True Negative:  38762\n"
          ]
        }
      ],
      "source": [
        "from sklearn.metrics import confusion_matrix\n",
        "cm_mlp = confusion_matrix(y_test, mlp_predictions, labels=[0,1])\n",
        "print(\"MultiLayerPerceptron\")\n",
        "print(\"True Poitives: \", cm_mlp[0][0])\n",
        "print(\"False Positives: \", cm_mlp[0][1])\n",
        "print(\"False Negative: \", cm_mlp[1][0])\n",
        "print(\"True Negative: \", cm_mlp[1][1])"
      ]
    },
    {
      "cell_type": "code",
      "execution_count": null,
      "metadata": {
        "colab": {
          "base_uri": "https://localhost:8080/"
        },
        "id": "7ezkz83xLivt",
        "outputId": "c42ba6d6-2322-40c2-9615-c0dc61888956"
      },
      "outputs": [
        {
          "name": "stdout",
          "output_type": "stream",
          "text": [
            "adaboost\n",
            "True Poitives:  133366\n",
            "False Positives:  1\n",
            "False Negative:  0\n",
            "True Negative:  38762\n"
          ]
        }
      ],
      "source": [
        "cm_adaboost = confusion_matrix(y_test, adaboost_predictions, labels=[0,1])\n",
        "cm_adaboost = confusion_matrix(y_test, adaboost_predictions, labels=[0,1])\n",
        "print(\"adaboost\")\n",
        "print(\"True Poitives: \", cm_adaboost[0][0])\n",
        "print(\"False Positives: \", cm_adaboost[0][1])\n",
        "print(\"False Negative: \", cm_adaboost[1][0])\n",
        "print(\"True Negative: \", cm_adaboost[1][1])"
      ]
    },
    {
      "cell_type": "code",
      "execution_count": null,
      "metadata": {
        "colab": {
          "base_uri": "https://localhost:8080/"
        },
        "id": "7GJhMYVJOGwT",
        "outputId": "18be3c9a-22a3-4b0a-ff81-ab3975b0b35e"
      },
      "outputs": [
        {
          "name": "stdout",
          "output_type": "stream",
          "text": [
            "K-Nearest Neighbour\n",
            "True Poitives:  133366\n",
            "False Positives:  1\n",
            "False Negative:  0\n",
            "True Negative:  38762\n"
          ]
        }
      ],
      "source": [
        "cm_Knearest = confusion_matrix(y_test, knn_predictions, labels=[0,1])\n",
        "print(\"K-Nearest Neighbour\")\n",
        "print(\"True Poitives: \", cm_Knearest[0][0])\n",
        "print(\"False Positives: \", cm_Knearest[0][1])\n",
        "print(\"False Negative: \", cm_Knearest[1][0])\n",
        "print(\"True Negative: \", cm_Knearest[1][1])"
      ]
    },
    {
      "cell_type": "code",
      "execution_count": null,
      "metadata": {
        "colab": {
          "base_uri": "https://localhost:8080/"
        },
        "id": "Vy6LlJESO2Fv",
        "outputId": "59ad1aa3-602a-411e-a1d4-9fceebff3d3b"
      },
      "outputs": [
        {
          "name": "stdout",
          "output_type": "stream",
          "text": [
            "Random Forest\n",
            "True Poitives:  133367\n",
            "False Positives:  1\n",
            "False Negative:  0\n",
            "True Negative:  38762\n"
          ]
        }
      ],
      "source": [
        "cm_randomforest = confusion_matrix(y_test, rf_predictions, labels=[0,1])\n",
        "print(\"Random Forest\")\n",
        "print(\"True Poitives: \", cm_randomforest[0][0])\n",
        "print(\"False Positives: \", cm_randomforest[0][1])\n",
        "print(\"False Negative: \", cm_randomforest[1][0])\n",
        "print(\"True Negative: \", cm_randomforest[1][1])"
      ]
    },
    {
      "cell_type": "code",
      "execution_count": null,
      "metadata": {
        "colab": {
          "base_uri": "https://localhost:8080/"
        },
        "id": "JFE7IaMiPQwA",
        "outputId": "e510beb3-0d74-425b-9161-bfafa616ce19"
      },
      "outputs": [
        {
          "name": "stdout",
          "output_type": "stream",
          "text": [
            "Naive-bayes\n",
            "True Poitives:  133324\n",
            "False Positives:  29\n",
            "False Negative:  0\n",
            "True Negative:  38762\n"
          ]
        }
      ],
      "source": [
        "cm_naivebayes = confusion_matrix(y_test, predictions, labels=[0,1])\n",
        "print(\"Naive-bayes\")\n",
        "print(\"True Poitives: \", cm_naivebayes[0][0])\n",
        "print(\"False Positives: \", cm_naivebayes[0][1])\n",
        "print(\"False Negative: \", cm_naivebayes[1][0])\n",
        "print(\"True Negative: \", cm_naivebayes[1][1])"
      ]
    }
  ],
  "metadata": {
    "accelerator": "GPU",
    "colab": {
      "gpuType": "T4",
      "provenance": []
    },
    "kernelspec": {
      "display_name": "Python 3",
      "name": "python3"
    },
    "language_info": {
      "name": "python"
    }
  },
  "nbformat": 4,
  "nbformat_minor": 0
}
